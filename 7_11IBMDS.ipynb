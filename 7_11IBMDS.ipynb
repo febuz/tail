{
 "cells": [
  {
   "cell_type": "markdown",
   "id": "ac591021-a122-4edc-b687-00aadebc2b9f",
   "metadata": {},
   "source": [
    "### Below are a few examples of evaluating arithmetic expressions in Python"
   ]
  },
  {
   "cell_type": "code",
   "execution_count": 2,
   "id": "93968f5b-8c50-42c5-b752-f63c9c489d1d",
   "metadata": {
    "tags": []
   },
   "outputs": [
    {
     "data": {
      "text/plain": [
       "17"
      ]
     },
     "execution_count": 2,
     "metadata": {},
     "output_type": "execute_result"
    }
   ],
   "source": [
    "#This a simple arithmetic expression to mutiply then add integers\n",
    "(3*4)+5"
   ]
  },
  {
   "cell_type": "code",
   "execution_count": 3,
   "id": "abf4b5ce-1a3b-4059-94f4-ebc593f8b18e",
   "metadata": {
    "tags": []
   },
   "outputs": [
    {
     "name": "stdout",
     "output_type": "stream",
     "text": [
      "3.3333333333333335\n"
     ]
    }
   ],
   "source": [
    "#This will convert 200 minutes to hours by diving by 60\n",
    "minutes = 200\n",
    "hourminutes = 60\n",
    "hours = minfutes / hourminutes\n",
    "print(hours)"
   ]
  },
  {
   "cell_type": "markdown",
   "id": "3116590f-4a3e-4d42-b943-19bf2e7d404d",
   "metadata": {},
   "source": [
    "Objectives:\n",
    "- List popular languages for data science\n",
    "- List popular packages for data science\n",
    "- Explain what an API is\n",
    "- Make a git branche with Github"
   ]
  },
  {
   "cell_type": "markdown",
   "id": "031b6627-0b7f-466b-b294-ccc22c0b98d9",
   "metadata": {},
   "source": [
    "## Author\n",
    "Edwin Hauwert"
   ]
  },
  {
   "cell_type": "code",
   "execution_count": null,
   "id": "ac5a0698-b050-4eb6-934a-ca0d033296b0",
   "metadata": {},
   "outputs": [],
   "source": []
  }
 ],
 "metadata": {
  "kernelspec": {
   "display_name": "Python",
   "language": "python",
   "name": "conda-env-python-py"
  },
  "language_info": {
   "codemirror_mode": {
    "name": "ipython",
    "version": 3
   },
   "file_extension": ".py",
   "mimetype": "text/x-python",
   "name": "python",
   "nbconvert_exporter": "python",
   "pygments_lexer": "ipython3",
   "version": "3.7.12"
  }
 },
 "nbformat": 4,
 "nbformat_minor": 5
}
